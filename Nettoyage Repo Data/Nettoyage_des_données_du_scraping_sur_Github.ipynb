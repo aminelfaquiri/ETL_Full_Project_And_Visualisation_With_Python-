{
 "cells": [
  {
   "cell_type": "code",
   "execution_count": 1,
   "metadata": {},
   "outputs": [],
   "source": [
    "import pandas as pd\n",
    "import matplotlib "
   ]
  },
  {
   "cell_type": "code",
   "execution_count": 2,
   "metadata": {},
   "outputs": [
    {
     "data": {
      "text/html": [
       "<div>\n",
       "<style scoped>\n",
       "    .dataframe tbody tr th:only-of-type {\n",
       "        vertical-align: middle;\n",
       "    }\n",
       "\n",
       "    .dataframe tbody tr th {\n",
       "        vertical-align: top;\n",
       "    }\n",
       "\n",
       "    .dataframe thead th {\n",
       "        text-align: right;\n",
       "    }\n",
       "</style>\n",
       "<table border=\"1\" class=\"dataframe\">\n",
       "  <thead>\n",
       "    <tr style=\"text-align: right;\">\n",
       "      <th></th>\n",
       "      <th>id</th>\n",
       "      <th>full_name</th>\n",
       "      <th>url</th>\n",
       "      <th>clone_url</th>\n",
       "      <th>watchers_count</th>\n",
       "      <th>stargazers_count</th>\n",
       "      <th>language</th>\n",
       "      <th>forks</th>\n",
       "      <th>created_at</th>\n",
       "      <th>updated_at</th>\n",
       "      <th>pushed_at</th>\n",
       "      <th>description</th>\n",
       "      <th>languages_url</th>\n",
       "      <th>open_issues_count</th>\n",
       "      <th>topics</th>\n",
       "      <th>license</th>\n",
       "    </tr>\n",
       "  </thead>\n",
       "  <tbody>\n",
       "    <tr>\n",
       "      <th>0</th>\n",
       "      <td>584145946</td>\n",
       "      <td>sumn2u/learn-javascript</td>\n",
       "      <td>https://github.com/sumn2u/learn-javascript</td>\n",
       "      <td>https://github.com/sumn2u/learn-javascript.git</td>\n",
       "      <td>622</td>\n",
       "      <td>622</td>\n",
       "      <td>HTML</td>\n",
       "      <td>30</td>\n",
       "      <td>2023-01-01T15:16:26Z</td>\n",
       "      <td>2023-06-19T03:32:46Z</td>\n",
       "      <td>2023-06-18T17:03:56Z</td>\n",
       "      <td>A book that teaches JavaScript</td>\n",
       "      <td>https://api.github.com/repos/sumn2u/learn-java...</td>\n",
       "      <td>1</td>\n",
       "      <td>['beginner', 'beginner-friendly', 'book', 'col...</td>\n",
       "      <td>{'key': 'apache-2.0', 'name': 'Apache License ...</td>\n",
       "    </tr>\n",
       "    <tr>\n",
       "      <th>1</th>\n",
       "      <td>584165139</td>\n",
       "      <td>bianchenglequ/NetCodeTop</td>\n",
       "      <td>https://github.com/bianchenglequ/NetCodeTop</td>\n",
       "      <td>https://github.com/bianchenglequ/NetCodeTop.git</td>\n",
       "      <td>570</td>\n",
       "      <td>570</td>\n",
       "      <td>NaN</td>\n",
       "      <td>106</td>\n",
       "      <td>2023-01-01T16:52:06Z</td>\n",
       "      <td>2023-06-19T04:09:19Z</td>\n",
       "      <td>2023-06-04T17:37:55Z</td>\n",
       "      <td>收集GitHub上有关.Net、.NetCore有趣、有用、热门的开源项目。</td>\n",
       "      <td>https://api.github.com/repos/bianchenglequ/Net...</td>\n",
       "      <td>1</td>\n",
       "      <td>['csharp', 'dotnet', 'net', 'netcore']</td>\n",
       "      <td>NaN</td>\n",
       "    </tr>\n",
       "    <tr>\n",
       "      <th>2</th>\n",
       "      <td>584189373</td>\n",
       "      <td>rupali-codes/LinksHub</td>\n",
       "      <td>https://github.com/rupali-codes/LinksHub</td>\n",
       "      <td>https://github.com/rupali-codes/LinksHub.git</td>\n",
       "      <td>345</td>\n",
       "      <td>345</td>\n",
       "      <td>TypeScript</td>\n",
       "      <td>277</td>\n",
       "      <td>2023-01-01T18:55:44Z</td>\n",
       "      <td>2023-06-17T16:10:48Z</td>\n",
       "      <td>2023-06-19T08:25:44Z</td>\n",
       "      <td>LinksHub aims to provide developers with acces...</td>\n",
       "      <td>https://api.github.com/repos/rupali-codes/Link...</td>\n",
       "      <td>77</td>\n",
       "      <td>['beginner-friendly', 'developers', 'links', '...</td>\n",
       "      <td>{'key': 'mit', 'name': 'MIT License', 'spdx_id...</td>\n",
       "    </tr>\n",
       "    <tr>\n",
       "      <th>3</th>\n",
       "      <td>584105200</td>\n",
       "      <td>LondheShubham153/90DaysOfDevOps</td>\n",
       "      <td>https://github.com/LondheShubham153/90DaysOfDe...</td>\n",
       "      <td>https://github.com/LondheShubham153/90DaysOfDe...</td>\n",
       "      <td>339</td>\n",
       "      <td>339</td>\n",
       "      <td>Python</td>\n",
       "      <td>2182</td>\n",
       "      <td>2023-01-01T11:41:21Z</td>\n",
       "      <td>2023-06-18T17:45:07Z</td>\n",
       "      <td>2023-06-13T22:14:45Z</td>\n",
       "      <td>This repository is a Challenge for the DevOps ...</td>\n",
       "      <td>https://api.github.com/repos/LondheShubham153/...</td>\n",
       "      <td>54</td>\n",
       "      <td>['devops', 'devops-tools', 'docker', 'grafana'...</td>\n",
       "      <td>{'key': 'other', 'name': 'Other', 'spdx_id': '...</td>\n",
       "    </tr>\n",
       "    <tr>\n",
       "      <th>4</th>\n",
       "      <td>584131216</td>\n",
       "      <td>jahidulislamzim/JavaScriptCodingChallenges</td>\n",
       "      <td>https://github.com/jahidulislamzim/JavaScriptC...</td>\n",
       "      <td>https://github.com/jahidulislamzim/JavaScriptC...</td>\n",
       "      <td>221</td>\n",
       "      <td>221</td>\n",
       "      <td>NaN</td>\n",
       "      <td>40</td>\n",
       "      <td>2023-01-01T14:04:36Z</td>\n",
       "      <td>2023-05-28T14:24:58Z</td>\n",
       "      <td>2023-01-24T05:22:17Z</td>\n",
       "      <td>Hello JavaScript code newbie! In this reposito...</td>\n",
       "      <td>https://api.github.com/repos/jahidulislamzim/J...</td>\n",
       "      <td>0</td>\n",
       "      <td>['coding', 'coding-challenge', 'coding-challen...</td>\n",
       "      <td>NaN</td>\n",
       "    </tr>\n",
       "    <tr>\n",
       "      <th>...</th>\n",
       "      <td>...</td>\n",
       "      <td>...</td>\n",
       "      <td>...</td>\n",
       "      <td>...</td>\n",
       "      <td>...</td>\n",
       "      <td>...</td>\n",
       "      <td>...</td>\n",
       "      <td>...</td>\n",
       "      <td>...</td>\n",
       "      <td>...</td>\n",
       "      <td>...</td>\n",
       "      <td>...</td>\n",
       "      <td>...</td>\n",
       "      <td>...</td>\n",
       "      <td>...</td>\n",
       "      <td>...</td>\n",
       "    </tr>\n",
       "    <tr>\n",
       "      <th>149995</th>\n",
       "      <td>647286991</td>\n",
       "      <td>khushaalan/Imperative-Programming</td>\n",
       "      <td>https://github.com/khushaalan/Imperative-Progr...</td>\n",
       "      <td>https://github.com/khushaalan/Imperative-Progr...</td>\n",
       "      <td>2</td>\n",
       "      <td>2</td>\n",
       "      <td>C</td>\n",
       "      <td>0</td>\n",
       "      <td>2023-05-30T13:06:40Z</td>\n",
       "      <td>2023-06-14T11:40:49Z</td>\n",
       "      <td>2023-06-13T06:56:26Z</td>\n",
       "      <td>NaN</td>\n",
       "      <td>https://api.github.com/repos/khushaalan/Impera...</td>\n",
       "      <td>0</td>\n",
       "      <td>[]</td>\n",
       "      <td>NaN</td>\n",
       "    </tr>\n",
       "    <tr>\n",
       "      <th>149996</th>\n",
       "      <td>647266500</td>\n",
       "      <td>AbbasMahdavi021/Fullstack-Portfolio-Website</td>\n",
       "      <td>https://github.com/AbbasMahdavi021/Fullstack-P...</td>\n",
       "      <td>https://github.com/AbbasMahdavi021/Fullstack-P...</td>\n",
       "      <td>2</td>\n",
       "      <td>2</td>\n",
       "      <td>JavaScript</td>\n",
       "      <td>0</td>\n",
       "      <td>2023-05-30T12:15:20Z</td>\n",
       "      <td>2023-06-16T12:28:52Z</td>\n",
       "      <td>2023-06-18T07:00:57Z</td>\n",
       "      <td>Personal Portfolio - CRA/Sanity</td>\n",
       "      <td>https://api.github.com/repos/AbbasMahdavi021/F...</td>\n",
       "      <td>0</td>\n",
       "      <td>['fullstack-portfolio', 'portfolio', 'portfoli...</td>\n",
       "      <td>{'key': 'mit', 'name': 'MIT License', 'spdx_id...</td>\n",
       "    </tr>\n",
       "    <tr>\n",
       "      <th>149997</th>\n",
       "      <td>647085558</td>\n",
       "      <td>abduraimovdev/SpotifyUI</td>\n",
       "      <td>https://github.com/abduraimovdev/SpotifyUI</td>\n",
       "      <td>https://github.com/abduraimovdev/SpotifyUI.git</td>\n",
       "      <td>2</td>\n",
       "      <td>2</td>\n",
       "      <td>Objective-C</td>\n",
       "      <td>0</td>\n",
       "      <td>2023-05-30T03:08:16Z</td>\n",
       "      <td>2023-06-03T08:03:08Z</td>\n",
       "      <td>2023-06-03T12:10:36Z</td>\n",
       "      <td>NaN</td>\n",
       "      <td>https://api.github.com/repos/abduraimovdev/Spo...</td>\n",
       "      <td>0</td>\n",
       "      <td>[]</td>\n",
       "      <td>NaN</td>\n",
       "    </tr>\n",
       "    <tr>\n",
       "      <th>149998</th>\n",
       "      <td>647042797</td>\n",
       "      <td>t0rakka/mango</td>\n",
       "      <td>https://github.com/t0rakka/mango</td>\n",
       "      <td>https://github.com/t0rakka/mango.git</td>\n",
       "      <td>2</td>\n",
       "      <td>2</td>\n",
       "      <td>C++</td>\n",
       "      <td>0</td>\n",
       "      <td>2023-05-30T00:08:59Z</td>\n",
       "      <td>2023-05-31T13:31:47Z</td>\n",
       "      <td>2023-06-16T08:05:43Z</td>\n",
       "      <td>NaN</td>\n",
       "      <td>https://api.github.com/repos/t0rakka/mango/lan...</td>\n",
       "      <td>0</td>\n",
       "      <td>[]</td>\n",
       "      <td>{'key': 'other', 'name': 'Other', 'spdx_id': '...</td>\n",
       "    </tr>\n",
       "    <tr>\n",
       "      <th>149999</th>\n",
       "      <td>647132872</td>\n",
       "      <td>darkmjk/l4d2_plugins_coop</td>\n",
       "      <td>https://github.com/darkmjk/l4d2_plugins_coop</td>\n",
       "      <td>https://github.com/darkmjk/l4d2_plugins_coop.git</td>\n",
       "      <td>2</td>\n",
       "      <td>2</td>\n",
       "      <td>SourcePawn</td>\n",
       "      <td>0</td>\n",
       "      <td>2023-05-30T06:10:18Z</td>\n",
       "      <td>2023-06-19T01:28:26Z</td>\n",
       "      <td>2023-06-19T05:40:04Z</td>\n",
       "      <td>求生之路2的一些小插件</td>\n",
       "      <td>https://api.github.com/repos/darkmjk/l4d2_plug...</td>\n",
       "      <td>1</td>\n",
       "      <td>[]</td>\n",
       "      <td>NaN</td>\n",
       "    </tr>\n",
       "  </tbody>\n",
       "</table>\n",
       "<p>150000 rows × 16 columns</p>\n",
       "</div>"
      ],
      "text/plain": [
       "               id                                    full_name  \\\n",
       "0       584145946                      sumn2u/learn-javascript   \n",
       "1       584165139                     bianchenglequ/NetCodeTop   \n",
       "2       584189373                        rupali-codes/LinksHub   \n",
       "3       584105200              LondheShubham153/90DaysOfDevOps   \n",
       "4       584131216   jahidulislamzim/JavaScriptCodingChallenges   \n",
       "...           ...                                          ...   \n",
       "149995  647286991            khushaalan/Imperative-Programming   \n",
       "149996  647266500  AbbasMahdavi021/Fullstack-Portfolio-Website   \n",
       "149997  647085558                      abduraimovdev/SpotifyUI   \n",
       "149998  647042797                                t0rakka/mango   \n",
       "149999  647132872                    darkmjk/l4d2_plugins_coop   \n",
       "\n",
       "                                                      url  \\\n",
       "0              https://github.com/sumn2u/learn-javascript   \n",
       "1             https://github.com/bianchenglequ/NetCodeTop   \n",
       "2                https://github.com/rupali-codes/LinksHub   \n",
       "3       https://github.com/LondheShubham153/90DaysOfDe...   \n",
       "4       https://github.com/jahidulislamzim/JavaScriptC...   \n",
       "...                                                   ...   \n",
       "149995  https://github.com/khushaalan/Imperative-Progr...   \n",
       "149996  https://github.com/AbbasMahdavi021/Fullstack-P...   \n",
       "149997         https://github.com/abduraimovdev/SpotifyUI   \n",
       "149998                   https://github.com/t0rakka/mango   \n",
       "149999       https://github.com/darkmjk/l4d2_plugins_coop   \n",
       "\n",
       "                                                clone_url  watchers_count  \\\n",
       "0          https://github.com/sumn2u/learn-javascript.git             622   \n",
       "1         https://github.com/bianchenglequ/NetCodeTop.git             570   \n",
       "2            https://github.com/rupali-codes/LinksHub.git             345   \n",
       "3       https://github.com/LondheShubham153/90DaysOfDe...             339   \n",
       "4       https://github.com/jahidulislamzim/JavaScriptC...             221   \n",
       "...                                                   ...             ...   \n",
       "149995  https://github.com/khushaalan/Imperative-Progr...               2   \n",
       "149996  https://github.com/AbbasMahdavi021/Fullstack-P...               2   \n",
       "149997     https://github.com/abduraimovdev/SpotifyUI.git               2   \n",
       "149998               https://github.com/t0rakka/mango.git               2   \n",
       "149999   https://github.com/darkmjk/l4d2_plugins_coop.git               2   \n",
       "\n",
       "        stargazers_count     language  forks            created_at  \\\n",
       "0                    622         HTML     30  2023-01-01T15:16:26Z   \n",
       "1                    570          NaN    106  2023-01-01T16:52:06Z   \n",
       "2                    345   TypeScript    277  2023-01-01T18:55:44Z   \n",
       "3                    339       Python   2182  2023-01-01T11:41:21Z   \n",
       "4                    221          NaN     40  2023-01-01T14:04:36Z   \n",
       "...                  ...          ...    ...                   ...   \n",
       "149995                 2            C      0  2023-05-30T13:06:40Z   \n",
       "149996                 2   JavaScript      0  2023-05-30T12:15:20Z   \n",
       "149997                 2  Objective-C      0  2023-05-30T03:08:16Z   \n",
       "149998                 2          C++      0  2023-05-30T00:08:59Z   \n",
       "149999                 2   SourcePawn      0  2023-05-30T06:10:18Z   \n",
       "\n",
       "                  updated_at             pushed_at  \\\n",
       "0       2023-06-19T03:32:46Z  2023-06-18T17:03:56Z   \n",
       "1       2023-06-19T04:09:19Z  2023-06-04T17:37:55Z   \n",
       "2       2023-06-17T16:10:48Z  2023-06-19T08:25:44Z   \n",
       "3       2023-06-18T17:45:07Z  2023-06-13T22:14:45Z   \n",
       "4       2023-05-28T14:24:58Z  2023-01-24T05:22:17Z   \n",
       "...                      ...                   ...   \n",
       "149995  2023-06-14T11:40:49Z  2023-06-13T06:56:26Z   \n",
       "149996  2023-06-16T12:28:52Z  2023-06-18T07:00:57Z   \n",
       "149997  2023-06-03T08:03:08Z  2023-06-03T12:10:36Z   \n",
       "149998  2023-05-31T13:31:47Z  2023-06-16T08:05:43Z   \n",
       "149999  2023-06-19T01:28:26Z  2023-06-19T05:40:04Z   \n",
       "\n",
       "                                              description  \\\n",
       "0                          A book that teaches JavaScript   \n",
       "1                  收集GitHub上有关.Net、.NetCore有趣、有用、热门的开源项目。   \n",
       "2       LinksHub aims to provide developers with acces...   \n",
       "3       This repository is a Challenge for the DevOps ...   \n",
       "4       Hello JavaScript code newbie! In this reposito...   \n",
       "...                                                   ...   \n",
       "149995                                                NaN   \n",
       "149996                    Personal Portfolio - CRA/Sanity   \n",
       "149997                                                NaN   \n",
       "149998                                                NaN   \n",
       "149999                                        求生之路2的一些小插件   \n",
       "\n",
       "                                            languages_url  open_issues_count  \\\n",
       "0       https://api.github.com/repos/sumn2u/learn-java...                  1   \n",
       "1       https://api.github.com/repos/bianchenglequ/Net...                  1   \n",
       "2       https://api.github.com/repos/rupali-codes/Link...                 77   \n",
       "3       https://api.github.com/repos/LondheShubham153/...                 54   \n",
       "4       https://api.github.com/repos/jahidulislamzim/J...                  0   \n",
       "...                                                   ...                ...   \n",
       "149995  https://api.github.com/repos/khushaalan/Impera...                  0   \n",
       "149996  https://api.github.com/repos/AbbasMahdavi021/F...                  0   \n",
       "149997  https://api.github.com/repos/abduraimovdev/Spo...                  0   \n",
       "149998  https://api.github.com/repos/t0rakka/mango/lan...                  0   \n",
       "149999  https://api.github.com/repos/darkmjk/l4d2_plug...                  1   \n",
       "\n",
       "                                                   topics  \\\n",
       "0       ['beginner', 'beginner-friendly', 'book', 'col...   \n",
       "1                  ['csharp', 'dotnet', 'net', 'netcore']   \n",
       "2       ['beginner-friendly', 'developers', 'links', '...   \n",
       "3       ['devops', 'devops-tools', 'docker', 'grafana'...   \n",
       "4       ['coding', 'coding-challenge', 'coding-challen...   \n",
       "...                                                   ...   \n",
       "149995                                                 []   \n",
       "149996  ['fullstack-portfolio', 'portfolio', 'portfoli...   \n",
       "149997                                                 []   \n",
       "149998                                                 []   \n",
       "149999                                                 []   \n",
       "\n",
       "                                                  license  \n",
       "0       {'key': 'apache-2.0', 'name': 'Apache License ...  \n",
       "1                                                     NaN  \n",
       "2       {'key': 'mit', 'name': 'MIT License', 'spdx_id...  \n",
       "3       {'key': 'other', 'name': 'Other', 'spdx_id': '...  \n",
       "4                                                     NaN  \n",
       "...                                                   ...  \n",
       "149995                                                NaN  \n",
       "149996  {'key': 'mit', 'name': 'MIT License', 'spdx_id...  \n",
       "149997                                                NaN  \n",
       "149998  {'key': 'other', 'name': 'Other', 'spdx_id': '...  \n",
       "149999                                                NaN  \n",
       "\n",
       "[150000 rows x 16 columns]"
      ]
     },
     "execution_count": 2,
     "metadata": {},
     "output_type": "execute_result"
    }
   ],
   "source": [
    "df = pd.read_csv('Repo_in2023.csv')\n",
    "df"
   ]
  },
  {
   "cell_type": "code",
   "execution_count": 3,
   "metadata": {},
   "outputs": [
    {
     "data": {
      "text/html": [
       "<div>\n",
       "<style scoped>\n",
       "    .dataframe tbody tr th:only-of-type {\n",
       "        vertical-align: middle;\n",
       "    }\n",
       "\n",
       "    .dataframe tbody tr th {\n",
       "        vertical-align: top;\n",
       "    }\n",
       "\n",
       "    .dataframe thead th {\n",
       "        text-align: right;\n",
       "    }\n",
       "</style>\n",
       "<table border=\"1\" class=\"dataframe\">\n",
       "  <thead>\n",
       "    <tr style=\"text-align: right;\">\n",
       "      <th></th>\n",
       "      <th>watchers_count</th>\n",
       "      <th>stargazers_count</th>\n",
       "      <th>open_issues_count</th>\n",
       "    </tr>\n",
       "  </thead>\n",
       "  <tbody>\n",
       "    <tr>\n",
       "      <th>count</th>\n",
       "      <td>150000.000000</td>\n",
       "      <td>150000.000000</td>\n",
       "      <td>150000.000000</td>\n",
       "    </tr>\n",
       "    <tr>\n",
       "      <th>mean</th>\n",
       "      <td>33.646007</td>\n",
       "      <td>33.646007</td>\n",
       "      <td>1.365387</td>\n",
       "    </tr>\n",
       "    <tr>\n",
       "      <th>std</th>\n",
       "      <td>597.376422</td>\n",
       "      <td>597.376422</td>\n",
       "      <td>10.143892</td>\n",
       "    </tr>\n",
       "    <tr>\n",
       "      <th>min</th>\n",
       "      <td>2.000000</td>\n",
       "      <td>2.000000</td>\n",
       "      <td>0.000000</td>\n",
       "    </tr>\n",
       "    <tr>\n",
       "      <th>25%</th>\n",
       "      <td>4.000000</td>\n",
       "      <td>4.000000</td>\n",
       "      <td>0.000000</td>\n",
       "    </tr>\n",
       "    <tr>\n",
       "      <th>50%</th>\n",
       "      <td>5.000000</td>\n",
       "      <td>5.000000</td>\n",
       "      <td>0.000000</td>\n",
       "    </tr>\n",
       "    <tr>\n",
       "      <th>75%</th>\n",
       "      <td>10.000000</td>\n",
       "      <td>10.000000</td>\n",
       "      <td>0.000000</td>\n",
       "    </tr>\n",
       "    <tr>\n",
       "      <th>max</th>\n",
       "      <td>140324.000000</td>\n",
       "      <td>140324.000000</td>\n",
       "      <td>1040.000000</td>\n",
       "    </tr>\n",
       "  </tbody>\n",
       "</table>\n",
       "</div>"
      ],
      "text/plain": [
       "       watchers_count  stargazers_count  open_issues_count\n",
       "count   150000.000000     150000.000000      150000.000000\n",
       "mean        33.646007         33.646007           1.365387\n",
       "std        597.376422        597.376422          10.143892\n",
       "min          2.000000          2.000000           0.000000\n",
       "25%          4.000000          4.000000           0.000000\n",
       "50%          5.000000          5.000000           0.000000\n",
       "75%         10.000000         10.000000           0.000000\n",
       "max     140324.000000     140324.000000        1040.000000"
      ]
     },
     "execution_count": 3,
     "metadata": {},
     "output_type": "execute_result"
    }
   ],
   "source": [
    "df[['watchers_count','stargazers_count','open_issues_count']].describe()"
   ]
  },
  {
   "cell_type": "code",
   "execution_count": 4,
   "metadata": {},
   "outputs": [
    {
     "name": "stdout",
     "output_type": "stream",
     "text": [
      "<class 'pandas.core.frame.DataFrame'>\n",
      "RangeIndex: 150000 entries, 0 to 149999\n",
      "Data columns (total 16 columns):\n",
      " #   Column             Non-Null Count   Dtype \n",
      "---  ------             --------------   ----- \n",
      " 0   id                 150000 non-null  int64 \n",
      " 1   full_name          150000 non-null  object\n",
      " 2   url                150000 non-null  object\n",
      " 3   clone_url          150000 non-null  object\n",
      " 4   watchers_count     150000 non-null  int64 \n",
      " 5   stargazers_count   150000 non-null  int64 \n",
      " 6   language           131212 non-null  object\n",
      " 7   forks              150000 non-null  int64 \n",
      " 8   created_at         150000 non-null  object\n",
      " 9   updated_at         150000 non-null  object\n",
      " 10  pushed_at          150000 non-null  object\n",
      " 11  description        105605 non-null  object\n",
      " 12  languages_url      150000 non-null  object\n",
      " 13  open_issues_count  150000 non-null  int64 \n",
      " 14  topics             150000 non-null  object\n",
      " 15  license            65481 non-null   object\n",
      "dtypes: int64(5), object(11)\n",
      "memory usage: 18.3+ MB\n"
     ]
    }
   ],
   "source": [
    "df.info()"
   ]
  },
  {
   "cell_type": "code",
   "execution_count": 5,
   "metadata": {},
   "outputs": [
    {
     "data": {
      "text/plain": [
       "id                       0\n",
       "full_name                0\n",
       "url                      0\n",
       "clone_url                0\n",
       "watchers_count           0\n",
       "stargazers_count         0\n",
       "language             18788\n",
       "forks                    0\n",
       "created_at               0\n",
       "updated_at               0\n",
       "pushed_at                0\n",
       "description          44395\n",
       "languages_url            0\n",
       "open_issues_count        0\n",
       "topics                   0\n",
       "license              84519\n",
       "dtype: int64"
      ]
     },
     "execution_count": 5,
     "metadata": {},
     "output_type": "execute_result"
    }
   ],
   "source": [
    "df.isnull().sum()"
   ]
  },
  {
   "attachments": {},
   "cell_type": "markdown",
   "metadata": {},
   "source": [
    "### Cleaning the data :"
   ]
  },
  {
   "cell_type": "code",
   "execution_count": 6,
   "metadata": {},
   "outputs": [
    {
     "data": {
      "text/plain": [
       "722"
      ]
     },
     "execution_count": 6,
     "metadata": {},
     "output_type": "execute_result"
    }
   ],
   "source": [
    "df.duplicated().sum()"
   ]
  },
  {
   "cell_type": "code",
   "execution_count": 7,
   "metadata": {},
   "outputs": [],
   "source": [
    "Ndf = df.drop_duplicates()"
   ]
  },
  {
   "cell_type": "code",
   "execution_count": 8,
   "metadata": {},
   "outputs": [],
   "source": [
    "Ndf = Ndf.drop(['id','clone_url','languages_url','pushed_at','watchers_count'], axis=1)"
   ]
  },
  {
   "cell_type": "code",
   "execution_count": 9,
   "metadata": {},
   "outputs": [],
   "source": [
    "Ndf = Ndf.drop(Ndf[Ndf['language'].isna()].index)"
   ]
  },
  {
   "cell_type": "code",
   "execution_count": 10,
   "metadata": {},
   "outputs": [
    {
     "data": {
      "text/plain": [
       "Python              26769\n",
       "JavaScript          19561\n",
       "TypeScript          13927\n",
       "HTML                 7265\n",
       "Java                 6308\n",
       "Jupyter Notebook     5674\n",
       "C++                  5414\n",
       "Go                   4443\n",
       "C#                   4356\n",
       "Rust                 4042\n",
       "CSS                  3625\n",
       "C                    3374\n",
       "PHP                  2831\n",
       "Shell                2782\n",
       "Kotlin               2241\n",
       "Dart                 1942\n",
       "Lua                  1583\n",
       "Vue                  1456\n",
       "Swift                1430\n",
       "Ruby                  955\n",
       "Solidity              768\n",
       "R                     500\n",
       "Svelte                491\n",
       "SCSS                  490\n",
       "PowerShell            407\n",
       "Name: language, dtype: int64"
      ]
     },
     "execution_count": 10,
     "metadata": {},
     "output_type": "execute_result"
    }
   ],
   "source": [
    "Ndf['language'].value_counts().head(25)"
   ]
  },
  {
   "cell_type": "code",
   "execution_count": 11,
   "metadata": {},
   "outputs": [
    {
     "data": {
      "text/plain": [
       "309"
      ]
     },
     "execution_count": 11,
     "metadata": {},
     "output_type": "execute_result"
    }
   ],
   "source": [
    "# show all language :\n",
    "len(Ndf['language'].unique())"
   ]
  },
  {
   "cell_type": "code",
   "execution_count": 12,
   "metadata": {},
   "outputs": [
    {
     "data": {
      "text/plain": [
       "full_name                0\n",
       "url                      0\n",
       "stargazers_count         0\n",
       "language                 0\n",
       "forks                    0\n",
       "created_at               0\n",
       "updated_at               0\n",
       "description          37500\n",
       "open_issues_count        0\n",
       "topics                   0\n",
       "license              70352\n",
       "dtype: int64"
      ]
     },
     "execution_count": 12,
     "metadata": {},
     "output_type": "execute_result"
    }
   ],
   "source": [
    "Ndf.isnull().sum()"
   ]
  },
  {
   "attachments": {},
   "cell_type": "markdown",
   "metadata": {},
   "source": [
    "### Fixed The Type Of data :"
   ]
  },
  {
   "cell_type": "code",
   "execution_count": 13,
   "metadata": {},
   "outputs": [],
   "source": [
    "# Change The Type Of This Column As Date Type :\n",
    "\n",
    "Ndf['created_at'] = pd.to_datetime(Ndf['created_at'])\n",
    "Ndf['updated_at'] = pd.to_datetime(Ndf['updated_at'])"
   ]
  },
  {
   "cell_type": "code",
   "execution_count": 14,
   "metadata": {},
   "outputs": [
    {
     "name": "stdout",
     "output_type": "stream",
     "text": [
      "<class 'pandas.core.frame.DataFrame'>\n",
      "Int64Index: 130593 entries, 0 to 149999\n",
      "Data columns (total 11 columns):\n",
      " #   Column             Non-Null Count   Dtype              \n",
      "---  ------             --------------   -----              \n",
      " 0   full_name          130593 non-null  object             \n",
      " 1   url                130593 non-null  object             \n",
      " 2   stargazers_count   130593 non-null  int64              \n",
      " 3   language           130593 non-null  object             \n",
      " 4   forks              130593 non-null  int64              \n",
      " 5   created_at         130593 non-null  datetime64[ns, UTC]\n",
      " 6   updated_at         130593 non-null  datetime64[ns, UTC]\n",
      " 7   description        93093 non-null   object             \n",
      " 8   open_issues_count  130593 non-null  int64              \n",
      " 9   topics             130593 non-null  object             \n",
      " 10  license            60241 non-null   object             \n",
      "dtypes: datetime64[ns, UTC](2), int64(3), object(6)\n",
      "memory usage: 12.0+ MB\n"
     ]
    }
   ],
   "source": [
    "Ndf.info()"
   ]
  },
  {
   "attachments": {},
   "cell_type": "markdown",
   "metadata": {},
   "source": [
    "Description column :"
   ]
  },
  {
   "cell_type": "code",
   "execution_count": 15,
   "metadata": {},
   "outputs": [],
   "source": [
    "# Change the NuLL description to 'No description' :\n",
    "Ndf['description'].fillna('No Discription', inplace=True)"
   ]
  },
  {
   "cell_type": "code",
   "execution_count": 16,
   "metadata": {},
   "outputs": [
    {
     "data": {
      "text/plain": [
       "Series([], Name: description, dtype: object)"
      ]
     },
     "execution_count": 16,
     "metadata": {},
     "output_type": "execute_result"
    }
   ],
   "source": [
    "# Verification de changement :\n",
    "Ndf[Ndf['description'].isna()]['description']"
   ]
  },
  {
   "cell_type": "code",
   "execution_count": 17,
   "metadata": {},
   "outputs": [],
   "source": [
    "# Remove the special character and emoji :\n",
    "import demoji\n",
    "import regex as re\n",
    "\n",
    "def remove_emoji_special_chars(text):\n",
    "    # Remove emojis\n",
    "    text_no_emoji = demoji.replace(text, '')\n",
    "    # Remove special characters excluding letters from any language\n",
    "    text_no_special_chars = re.sub(r'[^\\w\\s\\d\\p{L}]', '', text_no_emoji, flags=re.UNICODE)\n",
    "    return text_no_special_chars\n",
    "\n",
    "\n",
    "Ndf['description'] = Ndf['description'].apply(remove_emoji_special_chars)\n"
   ]
  },
  {
   "cell_type": "code",
   "execution_count": 151,
   "metadata": {},
   "outputs": [],
   "source": [
    "#function translatore :\n",
    "\n",
    "import time\n",
    "\n",
    "from googletrans import Translator\n",
    "from langdetect import detect\n",
    "\n",
    "translator = Translator()\n",
    "\n",
    "def translator_text(text):\n",
    "    try :\n",
    "      if detect(text) != \"en\" and str(text) != \"nan\" and str(text) != 'No Discription':\n",
    "        translated_text = translator.translate(text, dest='en').text\n",
    "        print('done =>',translated_text) \n",
    "      else :\n",
    "        return text\n",
    "    except :\n",
    "       return text\n",
    "    "
   ]
  },
  {
   "cell_type": "code",
   "execution_count": 18,
   "metadata": {},
   "outputs": [],
   "source": [
    "alldesc = Ndf['description']"
   ]
  },
  {
   "cell_type": "code",
   "execution_count": 153,
   "metadata": {},
   "outputs": [
    {
     "data": {
      "text/plain": [
       "0                            A book that teaches JavaScript\n",
       "2         LinksHub aims to provide developers with acces...\n",
       "3         This repository is a Challenge for the DevOps ...\n",
       "5         A custom view build with ObsidianDataview to d...\n",
       "6         Some of the scripts I use for scribepod  https...\n",
       "                                ...                        \n",
       "149995                                       No Discription\n",
       "149996                        Personal Portfolio  CRASanity\n",
       "149997                                       No Discription\n",
       "149998                                       No Discription\n",
       "149999                                          求生之路2的一些小插件\n",
       "Name: description, Length: 130593, dtype: object"
      ]
     },
     "execution_count": 153,
     "metadata": {},
     "output_type": "execute_result"
    }
   ],
   "source": [
    "alldesc"
   ]
  },
  {
   "attachments": {},
   "cell_type": "markdown",
   "metadata": {},
   "source": [
    "Change the type of topics column :"
   ]
  },
  {
   "cell_type": "code",
   "execution_count": 19,
   "metadata": {},
   "outputs": [
    {
     "data": {
      "text/plain": [
       "94209"
      ]
     },
     "execution_count": 19,
     "metadata": {},
     "output_type": "execute_result"
    }
   ],
   "source": [
    "# The number of topic has no value:\n",
    "Ndf['topics'][Ndf['topics'] == '[]'].count()\n"
   ]
  },
  {
   "cell_type": "code",
   "execution_count": 20,
   "metadata": {},
   "outputs": [],
   "source": [
    "import ast\n",
    "# Change topics to list and lower case format :\n",
    "def fixe_topics(arg) :\n",
    "    return ast.literal_eval(arg.lower())\n",
    "\n",
    "Ndf['topics'] = Ndf['topics'].apply(fixe_topics)"
   ]
  },
  {
   "cell_type": "code",
   "execution_count": 21,
   "metadata": {},
   "outputs": [
    {
     "data": {
      "text/plain": [
       "0         <class 'list'>\n",
       "2         <class 'list'>\n",
       "3         <class 'list'>\n",
       "5         <class 'list'>\n",
       "6         <class 'list'>\n",
       "               ...      \n",
       "149995    <class 'list'>\n",
       "149996    <class 'list'>\n",
       "149997    <class 'list'>\n",
       "149998    <class 'list'>\n",
       "149999    <class 'list'>\n",
       "Name: topics, Length: 130593, dtype: object"
      ]
     },
     "execution_count": 21,
     "metadata": {},
     "output_type": "execute_result"
    }
   ],
   "source": [
    "# checking the type of 'topics' :\n",
    "Ndf['topics'].apply(type)"
   ]
  },
  {
   "attachments": {},
   "cell_type": "markdown",
   "metadata": {},
   "source": [
    "#### License column:"
   ]
  },
  {
   "cell_type": "code",
   "execution_count": 22,
   "metadata": {},
   "outputs": [
    {
     "data": {
      "text/plain": [
       "0         Apache License 2.0\n",
       "2                MIT License\n",
       "3                      Other\n",
       "5              Not available\n",
       "6              Not available\n",
       "                 ...        \n",
       "149995         Not available\n",
       "149996           MIT License\n",
       "149997         Not available\n",
       "149998                 Other\n",
       "149999         Not available\n",
       "Name: license, Length: 130593, dtype: object"
      ]
     },
     "execution_count": 22,
     "metadata": {},
     "output_type": "execute_result"
    }
   ],
   "source": [
    "# change the NuLL license to 'Unknown'\n",
    "Ndf['license'].fillna('Not available', inplace=True)\n",
    "\n",
    "# changer le type de license to dic :\n",
    "def todic(dic_str) :\n",
    "    if dic_str != 'Not available' :\n",
    "        return eval(dic_str)['name']    \n",
    "    else :\n",
    "        return dic_str   \n",
    "\n",
    "Ndf['license'] = Ndf['license'].apply(todic)\n",
    "\n",
    "# check the type :\n",
    "Ndf['license']"
   ]
  },
  {
   "cell_type": "code",
   "execution_count": 158,
   "metadata": {},
   "outputs": [
    {
     "data": {
      "text/plain": [
       "full_name            0\n",
       "url                  0\n",
       "stargazers_count     0\n",
       "language             0\n",
       "forks                0\n",
       "created_at           0\n",
       "updated_at           0\n",
       "description          0\n",
       "open_issues_count    0\n",
       "topics               0\n",
       "license              0\n",
       "dtype: int64"
      ]
     },
     "execution_count": 158,
     "metadata": {},
     "output_type": "execute_result"
    }
   ],
   "source": [
    "Ndf.isnull().sum()"
   ]
  },
  {
   "attachments": {},
   "cell_type": "markdown",
   "metadata": {},
   "source": [
    "### Garer Les Valeur Aberrantes :"
   ]
  },
  {
   "cell_type": "code",
   "execution_count": 159,
   "metadata": {},
   "outputs": [
    {
     "data": {
      "image/png": "[encoded data removed]",
      "text/plain": [
       "<Figure size 640x480 with 1 Axes>"
      ]
     },
     "metadata": {},
     "output_type": "display_data"
    }
   ],
   "source": [
    "import seaborn as sns\n",
    "import matplotlib.pyplot as plt\n",
    "\n",
    "# Create the boxplot\n",
    "sns.boxplot(data=Ndf)\n",
    "\n",
    "# Display the plot\n",
    "plt.show()"
   ]
  },
  {
   "cell_type": "code",
   "execution_count": 160,
   "metadata": {},
   "outputs": [
    {
     "data": {
      "text/html": [
       "<div>\n",
       "<style scoped>\n",
       "    .dataframe tbody tr th:only-of-type {\n",
       "        vertical-align: middle;\n",
       "    }\n",
       "\n",
       "    .dataframe tbody tr th {\n",
       "        vertical-align: top;\n",
       "    }\n",
       "\n",
       "    .dataframe thead th {\n",
       "        text-align: right;\n",
       "    }\n",
       "</style>\n",
       "<table border=\"1\" class=\"dataframe\">\n",
       "  <thead>\n",
       "    <tr style=\"text-align: right;\">\n",
       "      <th></th>\n",
       "      <th>full_name</th>\n",
       "      <th>url</th>\n",
       "      <th>stargazers_count</th>\n",
       "      <th>language</th>\n",
       "      <th>forks</th>\n",
       "      <th>created_at</th>\n",
       "      <th>updated_at</th>\n",
       "      <th>description</th>\n",
       "      <th>open_issues_count</th>\n",
       "      <th>topics</th>\n",
       "      <th>license</th>\n",
       "    </tr>\n",
       "  </thead>\n",
       "  <tbody>\n",
       "    <tr>\n",
       "      <th>31000</th>\n",
       "      <td>base-org/node</td>\n",
       "      <td>https://github.com/base-org/node</td>\n",
       "      <td>49903</td>\n",
       "      <td>Shell</td>\n",
       "      <td>1346</td>\n",
       "      <td>2023-02-01 13:55:02+00:00</td>\n",
       "      <td>2023-06-19 09:21:57+00:00</td>\n",
       "      <td>Everything required to run your own Base node</td>\n",
       "      <td>1</td>\n",
       "      <td>[]</td>\n",
       "      <td>MIT License</td>\n",
       "    </tr>\n",
       "    <tr>\n",
       "      <th>74000</th>\n",
       "      <td>Significant-Gravitas/Auto-GPT</td>\n",
       "      <td>https://github.com/Significant-Gravitas/Auto-GPT</td>\n",
       "      <td>140324</td>\n",
       "      <td>Python</td>\n",
       "      <td>29735</td>\n",
       "      <td>2023-03-16 09:21:07+00:00</td>\n",
       "      <td>2023-06-19 10:08:45+00:00</td>\n",
       "      <td>An experimental opensource attempt to make GPT...</td>\n",
       "      <td>700</td>\n",
       "      <td>[ai, artificial-intelligence, autonomous-agent...</td>\n",
       "      <td>MIT License</td>\n",
       "    </tr>\n",
       "    <tr>\n",
       "      <th>85000</th>\n",
       "      <td>twitter/the-algorithm</td>\n",
       "      <td>https://github.com/twitter/the-algorithm</td>\n",
       "      <td>58213</td>\n",
       "      <td>Scala</td>\n",
       "      <td>11896</td>\n",
       "      <td>2023-03-27 14:57:57+00:00</td>\n",
       "      <td>2023-06-19 10:13:06+00:00</td>\n",
       "      <td>Source code for Twitters Recommendation Algorithm</td>\n",
       "      <td>341</td>\n",
       "      <td>[]</td>\n",
       "      <td>GNU Affero General Public License v3.0</td>\n",
       "    </tr>\n",
       "    <tr>\n",
       "      <th>85001</th>\n",
       "      <td>nomic-ai/gpt4all</td>\n",
       "      <td>https://github.com/nomic-ai/gpt4all</td>\n",
       "      <td>46936</td>\n",
       "      <td>C++</td>\n",
       "      <td>5017</td>\n",
       "      <td>2023-03-27 18:49:32+00:00</td>\n",
       "      <td>2023-06-19 09:49:26+00:00</td>\n",
       "      <td>gpt4all an ecosystem of opensource chatbots tr...</td>\n",
       "      <td>374</td>\n",
       "      <td>[]</td>\n",
       "      <td>MIT License</td>\n",
       "    </tr>\n",
       "    <tr>\n",
       "      <th>87000</th>\n",
       "      <td>xtekky/gpt4free</td>\n",
       "      <td>https://github.com/xtekky/gpt4free</td>\n",
       "      <td>40653</td>\n",
       "      <td>Python</td>\n",
       "      <td>10368</td>\n",
       "      <td>2023-03-29 17:00:43+00:00</td>\n",
       "      <td>2023-06-19 10:12:50+00:00</td>\n",
       "      <td>decentralising the Ai Industry just some langu...</td>\n",
       "      <td>144</td>\n",
       "      <td>[chatbot, chatbots, chatgpt, chatgpt-4, chatgp...</td>\n",
       "      <td>GNU General Public License v3.0</td>\n",
       "    </tr>\n",
       "  </tbody>\n",
       "</table>\n",
       "</div>"
      ],
      "text/plain": [
       "                           full_name  \\\n",
       "31000                  base-org/node   \n",
       "74000  Significant-Gravitas/Auto-GPT   \n",
       "85000          twitter/the-algorithm   \n",
       "85001               nomic-ai/gpt4all   \n",
       "87000                xtekky/gpt4free   \n",
       "\n",
       "                                                    url  stargazers_count  \\\n",
       "31000                  https://github.com/base-org/node             49903   \n",
       "74000  https://github.com/Significant-Gravitas/Auto-GPT            140324   \n",
       "85000          https://github.com/twitter/the-algorithm             58213   \n",
       "85001               https://github.com/nomic-ai/gpt4all             46936   \n",
       "87000                https://github.com/xtekky/gpt4free             40653   \n",
       "\n",
       "      language  forks                created_at                updated_at  \\\n",
       "31000    Shell   1346 2023-02-01 13:55:02+00:00 2023-06-19 09:21:57+00:00   \n",
       "74000   Python  29735 2023-03-16 09:21:07+00:00 2023-06-19 10:08:45+00:00   \n",
       "85000    Scala  11896 2023-03-27 14:57:57+00:00 2023-06-19 10:13:06+00:00   \n",
       "85001      C++   5017 2023-03-27 18:49:32+00:00 2023-06-19 09:49:26+00:00   \n",
       "87000   Python  10368 2023-03-29 17:00:43+00:00 2023-06-19 10:12:50+00:00   \n",
       "\n",
       "                                             description  open_issues_count  \\\n",
       "31000      Everything required to run your own Base node                  1   \n",
       "74000  An experimental opensource attempt to make GPT...                700   \n",
       "85000  Source code for Twitters Recommendation Algorithm                341   \n",
       "85001  gpt4all an ecosystem of opensource chatbots tr...                374   \n",
       "87000  decentralising the Ai Industry just some langu...                144   \n",
       "\n",
       "                                                  topics  \\\n",
       "31000                                                 []   \n",
       "74000  [ai, artificial-intelligence, autonomous-agent...   \n",
       "85000                                                 []   \n",
       "85001                                                 []   \n",
       "87000  [chatbot, chatbots, chatgpt, chatgpt-4, chatgp...   \n",
       "\n",
       "                                      license  \n",
       "31000                             MIT License  \n",
       "74000                             MIT License  \n",
       "85000  GNU Affero General Public License v3.0  \n",
       "85001                             MIT License  \n",
       "87000         GNU General Public License v3.0  "
      ]
     },
     "execution_count": 160,
     "metadata": {},
     "output_type": "execute_result"
    }
   ],
   "source": [
    "Ndf[Ndf['stargazers_count'] > 40000]"
   ]
  },
  {
   "cell_type": "code",
   "execution_count": 161,
   "metadata": {},
   "outputs": [
    {
     "data": {
      "text/html": [
       "<div>\n",
       "<style scoped>\n",
       "    .dataframe tbody tr th:only-of-type {\n",
       "        vertical-align: middle;\n",
       "    }\n",
       "\n",
       "    .dataframe tbody tr th {\n",
       "        vertical-align: top;\n",
       "    }\n",
       "\n",
       "    .dataframe thead th {\n",
       "        text-align: right;\n",
       "    }\n",
       "</style>\n",
       "<table border=\"1\" class=\"dataframe\">\n",
       "  <thead>\n",
       "    <tr style=\"text-align: right;\">\n",
       "      <th></th>\n",
       "      <th>full_name</th>\n",
       "      <th>url</th>\n",
       "      <th>stargazers_count</th>\n",
       "      <th>language</th>\n",
       "      <th>forks</th>\n",
       "      <th>created_at</th>\n",
       "      <th>updated_at</th>\n",
       "      <th>description</th>\n",
       "      <th>open_issues_count</th>\n",
       "      <th>topics</th>\n",
       "      <th>license</th>\n",
       "    </tr>\n",
       "  </thead>\n",
       "  <tbody>\n",
       "    <tr>\n",
       "      <th>68000</th>\n",
       "      <td>Yidadaa/ChatGPT-Next-Web</td>\n",
       "      <td>https://github.com/Yidadaa/ChatGPT-Next-Web</td>\n",
       "      <td>32818</td>\n",
       "      <td>TypeScript</td>\n",
       "      <td>30870</td>\n",
       "      <td>2023-03-10 18:27:54+00:00</td>\n",
       "      <td>2023-06-19 10:02:52+00:00</td>\n",
       "      <td>A welldesigned crossplatform ChatGPT UI Web  P...</td>\n",
       "      <td>35</td>\n",
       "      <td>[chatgpt, cross-platform, nextjs, tauri, tauri...</td>\n",
       "      <td>Other</td>\n",
       "    </tr>\n",
       "    <tr>\n",
       "      <th>74000</th>\n",
       "      <td>Significant-Gravitas/Auto-GPT</td>\n",
       "      <td>https://github.com/Significant-Gravitas/Auto-GPT</td>\n",
       "      <td>140324</td>\n",
       "      <td>Python</td>\n",
       "      <td>29735</td>\n",
       "      <td>2023-03-16 09:21:07+00:00</td>\n",
       "      <td>2023-06-19 10:08:45+00:00</td>\n",
       "      <td>An experimental opensource attempt to make GPT...</td>\n",
       "      <td>700</td>\n",
       "      <td>[ai, artificial-intelligence, autonomous-agent...</td>\n",
       "      <td>MIT License</td>\n",
       "    </tr>\n",
       "  </tbody>\n",
       "</table>\n",
       "</div>"
      ],
      "text/plain": [
       "                           full_name  \\\n",
       "68000       Yidadaa/ChatGPT-Next-Web   \n",
       "74000  Significant-Gravitas/Auto-GPT   \n",
       "\n",
       "                                                    url  stargazers_count  \\\n",
       "68000       https://github.com/Yidadaa/ChatGPT-Next-Web             32818   \n",
       "74000  https://github.com/Significant-Gravitas/Auto-GPT            140324   \n",
       "\n",
       "         language  forks                created_at                updated_at  \\\n",
       "68000  TypeScript  30870 2023-03-10 18:27:54+00:00 2023-06-19 10:02:52+00:00   \n",
       "74000      Python  29735 2023-03-16 09:21:07+00:00 2023-06-19 10:08:45+00:00   \n",
       "\n",
       "                                             description  open_issues_count  \\\n",
       "68000  A welldesigned crossplatform ChatGPT UI Web  P...                 35   \n",
       "74000  An experimental opensource attempt to make GPT...                700   \n",
       "\n",
       "                                                  topics      license  \n",
       "68000  [chatgpt, cross-platform, nextjs, tauri, tauri...        Other  \n",
       "74000  [ai, artificial-intelligence, autonomous-agent...  MIT License  "
      ]
     },
     "execution_count": 161,
     "metadata": {},
     "output_type": "execute_result"
    }
   ],
   "source": [
    "Ndf[Ndf['forks'] > 20000]"
   ]
  },
  {
   "cell_type": "code",
   "execution_count": 23,
   "metadata": {},
   "outputs": [],
   "source": [
    "Ndf = Ndf[Ndf['stargazers_count'] >= 10]"
   ]
  },
  {
   "cell_type": "code",
   "execution_count": 24,
   "metadata": {},
   "outputs": [
    {
     "name": "stdout",
     "output_type": "stream",
     "text": [
      "<class 'pandas.core.frame.DataFrame'>\n",
      "Int64Index: 34442 entries, 0 to 149133\n",
      "Data columns (total 11 columns):\n",
      " #   Column             Non-Null Count  Dtype              \n",
      "---  ------             --------------  -----              \n",
      " 0   full_name          34442 non-null  object             \n",
      " 1   url                34442 non-null  object             \n",
      " 2   stargazers_count   34442 non-null  int64              \n",
      " 3   language           34442 non-null  object             \n",
      " 4   forks              34442 non-null  int64              \n",
      " 5   created_at         34442 non-null  datetime64[ns, UTC]\n",
      " 6   updated_at         34442 non-null  datetime64[ns, UTC]\n",
      " 7   description        34442 non-null  object             \n",
      " 8   open_issues_count  34442 non-null  int64              \n",
      " 9   topics             34442 non-null  object             \n",
      " 10  license            34442 non-null  object             \n",
      "dtypes: datetime64[ns, UTC](2), int64(3), object(6)\n",
      "memory usage: 3.2+ MB\n"
     ]
    }
   ],
   "source": [
    "Ndf.info()"
   ]
  },
  {
   "cell_type": "code",
   "execution_count": 25,
   "metadata": {},
   "outputs": [],
   "source": [
    "Ndf.to_csv('Repo_in2023_nettoyé.csv', index=False)"
   ]
  }
 ],
 "metadata": {
  "kernelspec": {
   "display_name": "Python 3 (ipykernel)",
   "language": "python",
   "name": "python3"
  },
  "language_info": {
   "codemirror_mode": {
    "name": "ipython",
    "version": 3
   },
   "file_extension": ".py",
   "mimetype": "text/x-python",
   "name": "python",
   "nbconvert_exporter": "python",
   "pygments_lexer": "ipython3",
   "version": "3.10.11"
  }
 },
 "nbformat": 4,
 "nbformat_minor": 2
}
