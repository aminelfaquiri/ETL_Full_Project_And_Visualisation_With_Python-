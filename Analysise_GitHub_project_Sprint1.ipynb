{
 "cells": [
  {
   "cell_type": "code",
   "execution_count": 24,
   "metadata": {},
   "outputs": [],
   "source": [
    "import pandas as pd\n",
    "import matplotlib.pyplot as plt\n",
    "import seaborn as sns\n",
    "from bokeh.plotting import figure, output_notebook, show\n",
    "from bokeh.palettes import Category10"
   ]
  },
  {
   "cell_type": "code",
   "execution_count": 25,
   "metadata": {},
   "outputs": [],
   "source": [
    "Adf = pd.read_csv('Repo_in2023_Analytic.csv')\n",
    "Mydf = pd.read_csv('Repo_in2023_nettoyé.csv')"
   ]
  },
  {
   "cell_type": "code",
   "execution_count": 27,
   "metadata": {},
   "outputs": [
    {
     "data": {
      "text/html": [
       "<div>\n",
       "<style scoped>\n",
       "    .dataframe tbody tr th:only-of-type {\n",
       "        vertical-align: middle;\n",
       "    }\n",
       "\n",
       "    .dataframe tbody tr th {\n",
       "        vertical-align: top;\n",
       "    }\n",
       "\n",
       "    .dataframe thead th {\n",
       "        text-align: right;\n",
       "    }\n",
       "</style>\n",
       "<table border=\"1\" class=\"dataframe\">\n",
       "  <thead>\n",
       "    <tr style=\"text-align: right;\">\n",
       "      <th></th>\n",
       "      <th>full_name</th>\n",
       "      <th>url</th>\n",
       "      <th>stargazers_count</th>\n",
       "      <th>language</th>\n",
       "      <th>forks</th>\n",
       "      <th>created_at</th>\n",
       "      <th>updated_at</th>\n",
       "      <th>description</th>\n",
       "      <th>open_issues_count</th>\n",
       "      <th>topics</th>\n",
       "      <th>license</th>\n",
       "    </tr>\n",
       "  </thead>\n",
       "  <tbody>\n",
       "    <tr>\n",
       "      <th>0</th>\n",
       "      <td>sumn2u/learn-javascript</td>\n",
       "      <td>https://github.com/sumn2u/learn-javascript</td>\n",
       "      <td>622</td>\n",
       "      <td>HTML</td>\n",
       "      <td>30</td>\n",
       "      <td>2023-01-01 15:16:26+00:00</td>\n",
       "      <td>2023-06-19 03:32:46+00:00</td>\n",
       "      <td>A book that teaches JavaScript</td>\n",
       "      <td>1</td>\n",
       "      <td>['beginner', 'beginner-friendly', 'book', 'col...</td>\n",
       "      <td>Apache License 2.0</td>\n",
       "    </tr>\n",
       "  </tbody>\n",
       "</table>\n",
       "</div>"
      ],
      "text/plain": [
       "                 full_name                                         url  \\\n",
       "0  sumn2u/learn-javascript  https://github.com/sumn2u/learn-javascript   \n",
       "\n",
       "   stargazers_count language  forks                 created_at  \\\n",
       "0               622     HTML     30  2023-01-01 15:16:26+00:00   \n",
       "\n",
       "                  updated_at                     description  \\\n",
       "0  2023-06-19 03:32:46+00:00  A book that teaches JavaScript   \n",
       "\n",
       "   open_issues_count                                             topics  \\\n",
       "0                  1  ['beginner', 'beginner-friendly', 'book', 'col...   \n",
       "\n",
       "              license  \n",
       "0  Apache License 2.0  "
      ]
     },
     "execution_count": 27,
     "metadata": {},
     "output_type": "execute_result"
    }
   ],
   "source": [
    "Mydf.head(1)"
   ]
  },
  {
   "cell_type": "code",
   "execution_count": 28,
   "metadata": {},
   "outputs": [
    {
     "data": {
      "text/html": [
       "<div>\n",
       "<style scoped>\n",
       "    .dataframe tbody tr th:only-of-type {\n",
       "        vertical-align: middle;\n",
       "    }\n",
       "\n",
       "    .dataframe tbody tr th {\n",
       "        vertical-align: top;\n",
       "    }\n",
       "\n",
       "    .dataframe thead th {\n",
       "        text-align: right;\n",
       "    }\n",
       "</style>\n",
       "<table border=\"1\" class=\"dataframe\">\n",
       "  <thead>\n",
       "    <tr style=\"text-align: right;\">\n",
       "      <th></th>\n",
       "      <th>full_name</th>\n",
       "      <th>url</th>\n",
       "      <th>stargazers_count</th>\n",
       "      <th>language</th>\n",
       "      <th>forks</th>\n",
       "      <th>created_at</th>\n",
       "      <th>updated_at</th>\n",
       "      <th>description</th>\n",
       "      <th>open_issues_count</th>\n",
       "      <th>topics</th>\n",
       "      <th>license</th>\n",
       "    </tr>\n",
       "  </thead>\n",
       "  <tbody>\n",
       "    <tr>\n",
       "      <th>0</th>\n",
       "      <td>sumn2u/learn-javascript</td>\n",
       "      <td>https://github.com/sumn2u/learn-javascript</td>\n",
       "      <td>622</td>\n",
       "      <td>HTML</td>\n",
       "      <td>30</td>\n",
       "      <td>2023-01-01 15:16:26+00:00</td>\n",
       "      <td>2023-06-19 03:32:46+00:00</td>\n",
       "      <td>A book that teaches JavaScript</td>\n",
       "      <td>1</td>\n",
       "      <td>['beginner', 'beginner-friendly', 'book', 'col...</td>\n",
       "      <td>Apache License 2.0</td>\n",
       "    </tr>\n",
       "  </tbody>\n",
       "</table>\n",
       "</div>"
      ],
      "text/plain": [
       "                 full_name                                         url  \\\n",
       "0  sumn2u/learn-javascript  https://github.com/sumn2u/learn-javascript   \n",
       "\n",
       "   stargazers_count language  forks                 created_at  \\\n",
       "0               622     HTML     30  2023-01-01 15:16:26+00:00   \n",
       "\n",
       "                  updated_at                     description  \\\n",
       "0  2023-06-19 03:32:46+00:00  A book that teaches JavaScript   \n",
       "\n",
       "   open_issues_count                                             topics  \\\n",
       "0                  1  ['beginner', 'beginner-friendly', 'book', 'col...   \n",
       "\n",
       "              license  \n",
       "0  Apache License 2.0  "
      ]
     },
     "execution_count": 28,
     "metadata": {},
     "output_type": "execute_result"
    }
   ],
   "source": [
    "Mydf.head(1)"
   ]
  },
  {
   "cell_type": "code",
   "execution_count": 33,
   "metadata": {},
   "outputs": [],
   "source": [
    "Mydf['created_at'] = pd.to_datetime(Mydf['created_at'])\n",
    "Mydf['updated_at'] = pd.to_datetime(Mydf['updated_at'])"
   ]
  },
  {
   "cell_type": "code",
   "execution_count": 34,
   "metadata": {},
   "outputs": [
    {
     "name": "stdout",
     "output_type": "stream",
     "text": [
      "<class 'pandas.core.frame.DataFrame'>\n",
      "RangeIndex: 34442 entries, 0 to 34441\n",
      "Data columns (total 11 columns):\n",
      " #   Column             Non-Null Count  Dtype              \n",
      "---  ------             --------------  -----              \n",
      " 0   full_name          34442 non-null  object             \n",
      " 1   url                34442 non-null  object             \n",
      " 2   stargazers_count   34442 non-null  int64              \n",
      " 3   language           34442 non-null  object             \n",
      " 4   forks              34442 non-null  int64              \n",
      " 5   created_at         34442 non-null  datetime64[ns, UTC]\n",
      " 6   updated_at         34442 non-null  datetime64[ns, UTC]\n",
      " 7   description        34438 non-null  object             \n",
      " 8   open_issues_count  34442 non-null  int64              \n",
      " 9   topics             34442 non-null  object             \n",
      " 10  license            34442 non-null  object             \n",
      "dtypes: datetime64[ns, UTC](2), int64(3), object(6)\n",
      "memory usage: 2.9+ MB\n"
     ]
    }
   ],
   "source": [
    "Mydf.info()"
   ]
  },
  {
   "attachments": {},
   "cell_type": "markdown",
   "metadata": {},
   "source": [
    "# Language :"
   ]
  },
  {
   "attachments": {},
   "cell_type": "markdown",
   "metadata": {},
   "source": [
    "#### Les Top 10  langue plus utileser : bokeh"
   ]
  },
  {
   "cell_type": "code",
   "execution_count": 70,
   "metadata": {},
   "outputs": [
    {
     "data": {
      "text/html": [
       "\n",
       "  <div id=\"fc5dcc98-f19c-420f-8ac4-688cf26b9f9c\" data-root-id=\"p1133\" style=\"display: contents;\"></div>\n"
      ]
     },
     "metadata": {},
     "output_type": "display_data"
    },
    {
     "data": {
      "application/javascript": "(function(root) {\n  function embed_document(root) {\n  const docs_json = {\"e42db2ef-e80c-4a31-b243-140dbbb7d442\":{\"version\":\"3.2.0\",\"title\":\"Bokeh Application\",\"roots\":[{\"type\":\"object\",\"name\":\"Figure\",\"id\":\"p1133\",\"attributes\":{\"height\":350,\"x_range\":{\"type\":\"object\",\"name\":\"FactorRange\",\"id\":\"p1143\",\"attributes\":{\"factors\":[\"Python\",\"JavaScript\",\"TypeScript\",\"C++\",\"Go\",\"Rust\",\"Jupyter Notebook\",\"Java\",\"C#\",\"C\"]}},\"y_range\":{\"type\":\"object\",\"name\":\"DataRange1d\",\"id\":\"p1135\",\"attributes\":{\"start\":0}},\"x_scale\":{\"type\":\"object\",\"name\":\"CategoricalScale\",\"id\":\"p1144\"},\"y_scale\":{\"type\":\"object\",\"name\":\"LinearScale\",\"id\":\"p1145\"},\"title\":{\"type\":\"object\",\"name\":\"Title\",\"id\":\"p1136\",\"attributes\":{\"text\":\"Top 10 Languages in \"}},\"renderers\":[{\"type\":\"object\",\"name\":\"GlyphRenderer\",\"id\":\"p1162\",\"attributes\":{\"data_source\":{\"type\":\"object\",\"name\":\"ColumnDataSource\",\"id\":\"p1156\",\"attributes\":{\"selected\":{\"type\":\"object\",\"name\":\"Selection\",\"id\":\"p1157\",\"attributes\":{\"indices\":[],\"line_indices\":[]}},\"selection_policy\":{\"type\":\"object\",\"name\":\"UnionRenderers\",\"id\":\"p1158\"},\"data\":{\"type\":\"map\",\"entries\":[[\"x\",[\"Python\",\"JavaScript\",\"TypeScript\",\"C++\",\"Go\",\"Rust\",\"Jupyter Notebook\",\"Java\",\"C#\",\"C\"]],[\"top\",{\"type\":\"ndarray\",\"array\":{\"type\":\"bytes\",\"data\":\"MgYAANoDAAC8AwAAewEAAFkBAABWAQAADgEAAA0BAAAKAQAABQEAAA==\"},\"shape\":[10],\"dtype\":\"int32\",\"order\":\"little\"}],[\"fill_color\",[\"#1f77b4\",\"#ff7f0e\",\"#2ca02c\",\"#d62728\",\"#9467bd\",\"#8c564b\",\"#e377c2\",\"#7f7f7f\",\"#bcbd22\",\"#17becf\"]]]}}},\"view\":{\"type\":\"object\",\"name\":\"CDSView\",\"id\":\"p1163\",\"attributes\":{\"filter\":{\"type\":\"object\",\"name\":\"AllIndices\",\"id\":\"p1164\"}}},\"glyph\":{\"type\":\"object\",\"name\":\"VBar\",\"id\":\"p1159\",\"attributes\":{\"x\":{\"type\":\"field\",\"field\":\"x\"},\"width\":{\"type\":\"value\",\"value\":0.9},\"top\":{\"type\":\"field\",\"field\":\"top\"},\"line_color\":{\"type\":\"value\",\"value\":\"#1f77b4\"},\"fill_color\":{\"type\":\"field\",\"field\":\"fill_color\"}}},\"nonselection_glyph\":{\"type\":\"object\",\"name\":\"VBar\",\"id\":\"p1160\",\"attributes\":{\"x\":{\"type\":\"field\",\"field\":\"x\"},\"width\":{\"type\":\"value\",\"value\":0.9},\"top\":{\"type\":\"field\",\"field\":\"top\"},\"line_color\":{\"type\":\"value\",\"value\":\"#1f77b4\"},\"line_alpha\":{\"type\":\"value\",\"value\":0.1},\"fill_color\":{\"type\":\"field\",\"field\":\"fill_color\"},\"fill_alpha\":{\"type\":\"value\",\"value\":0.1},\"hatch_alpha\":{\"type\":\"value\",\"value\":0.1}}},\"muted_glyph\":{\"type\":\"object\",\"name\":\"VBar\",\"id\":\"p1161\",\"attributes\":{\"x\":{\"type\":\"field\",\"field\":\"x\"},\"width\":{\"type\":\"value\",\"value\":0.9},\"top\":{\"type\":\"field\",\"field\":\"top\"},\"line_color\":{\"type\":\"value\",\"value\":\"#1f77b4\"},\"line_alpha\":{\"type\":\"value\",\"value\":0.2},\"fill_color\":{\"type\":\"field\",\"field\":\"fill_color\"},\"fill_alpha\":{\"type\":\"value\",\"value\":0.2},\"hatch_alpha\":{\"type\":\"value\",\"value\":0.2}}}}}],\"toolbar\":{\"type\":\"object\",\"name\":\"Toolbar\",\"id\":\"p1142\"},\"toolbar_location\":null,\"left\":[{\"type\":\"object\",\"name\":\"LinearAxis\",\"id\":\"p1151\",\"attributes\":{\"ticker\":{\"type\":\"object\",\"name\":\"BasicTicker\",\"id\":\"p1152\",\"attributes\":{\"mantissas\":[1,2,5]}},\"formatter\":{\"type\":\"object\",\"name\":\"BasicTickFormatter\",\"id\":\"p1153\"},\"major_label_policy\":{\"type\":\"object\",\"name\":\"AllLabels\",\"id\":\"p1154\"}}}],\"below\":[{\"type\":\"object\",\"name\":\"CategoricalAxis\",\"id\":\"p1146\",\"attributes\":{\"ticker\":{\"type\":\"object\",\"name\":\"CategoricalTicker\",\"id\":\"p1147\"},\"formatter\":{\"type\":\"object\",\"name\":\"CategoricalTickFormatter\",\"id\":\"p1148\"},\"major_label_policy\":{\"type\":\"object\",\"name\":\"AllLabels\",\"id\":\"p1149\"}}}],\"center\":[{\"type\":\"object\",\"name\":\"Grid\",\"id\":\"p1150\",\"attributes\":{\"axis\":{\"id\":\"p1146\"},\"grid_line_color\":null}},{\"type\":\"object\",\"name\":\"Grid\",\"id\":\"p1155\",\"attributes\":{\"dimension\":1,\"axis\":{\"id\":\"p1151\"}}}]}}]}};\n  const render_items = [{\"docid\":\"e42db2ef-e80c-4a31-b243-140dbbb7d442\",\"roots\":{\"p1133\":\"fc5dcc98-f19c-420f-8ac4-688cf26b9f9c\"},\"root_ids\":[\"p1133\"]}];\n  root.Bokeh.embed.embed_items_notebook(docs_json, render_items);\n  }\n  if (root.Bokeh !== undefined) {\n    embed_document(root);\n  } else {\n    let attempts = 0;\n    const timer = setInterval(function(root) {\n      if (root.Bokeh !== undefined) {\n        clearInterval(timer);\n        embed_document(root);\n      } else {\n        attempts++;\n        if (attempts > 100) {\n          clearInterval(timer);\n          console.log(\"Bokeh: ERROR: Unable to run BokehJS code because BokehJS library is missing\");\n        }\n      }\n    }, 10, root)\n  }\n})(window);",
      "application/vnd.bokehjs_exec.v0+json": ""
     },
     "metadata": {
      "application/vnd.bokehjs_exec.v0+json": {
       "id": "p1133"
      }
     },
     "output_type": "display_data"
    }
   ],
   "source": [
    "month = Mydf[Mydf['created_at'].dt.month == 1]\n",
    "\n",
    "month = month['language'].value_counts()[:10]\n",
    "\n",
    "p = figure(x_range=month.index.tolist(), height=350, title=\"Top 10 Languages in \",\n",
    "         \n",
    "           toolbar_location=None, tools=\"\")\n",
    "\n",
    "p.vbar(x=month.index.tolist(), top=month.values, width=0.9,\n",
    "       fill_color=Category10[10])\n",
    "\n",
    "p.xgrid.grid_line_color = None\n",
    "\n",
    "p.y_range.start = 0\n",
    "\n",
    "# output_notebook()\n",
    "\n",
    "show(p)"
   ]
  },
  {
   "attachments": {},
   "cell_type": "markdown",
   "metadata": {},
   "source": [
    "#### Popularity of langauge by Time : !!!!!!!!!!!!"
   ]
  },
  {
   "attachments": {},
   "cell_type": "markdown",
   "metadata": {},
   "source": [
    "#### Explore the relationship between the number of stars and the popularity of different licenses :"
   ]
  },
  {
   "attachments": {},
   "cell_type": "markdown",
   "metadata": {},
   "source": [
    "##### Compare the popularity of repositories based on their licenses :"
   ]
  },
  {
   "attachments": {},
   "cell_type": "markdown",
   "metadata": {},
   "source": [
    "#### Visualize the relationship between the number of stars and forks for different projects :"
   ]
  },
  {
   "attachments": {},
   "cell_type": "markdown",
   "metadata": {},
   "source": [
    "##### Visualize the distribution of repositories based on the number of stars and forks."
   ]
  },
  {
   "attachments": {},
   "cell_type": "markdown",
   "metadata": {},
   "source": [
    "#### Trending Topic  :"
   ]
  },
  {
   "cell_type": "code",
   "execution_count": null,
   "metadata": {},
   "outputs": [],
   "source": [
    "import ast\n",
    "# Change topics to list and lower case format :\n",
    "def fixe_topics(arg) :\n",
    "    return ast.literal_eval(arg.lower())\n",
    "\n",
    "Mydf['topics'] = Mydf['topics'].apply(fixe_topics)"
   ]
  },
  {
   "cell_type": "code",
   "execution_count": 62,
   "metadata": {},
   "outputs": [
    {
     "data": {
      "text/plain": [
       "chatgpt       1302\n",
       "python        1014\n",
       "openai         878\n",
       "typescript     673\n",
       "javascript     645\n",
       "ai             637\n",
       "react          574\n",
       "rust           437\n",
       "gpt            362\n",
       "nextjs         361\n",
       "dtype: int64"
      ]
     },
     "execution_count": 62,
     "metadata": {},
     "output_type": "execute_result"
    }
   ],
   "source": [
    "import itertools\n",
    "             \n",
    "# Merge all lists into one consolidated list\n",
    "merged_list = list(itertools.chain(*Mydf['topics']))\n",
    "\n",
    "unique_topics_df = pd.DataFrame(merged_list)\n",
    "\n",
    "TopTopic = unique_topics_df.value_counts().head(10)\n",
    "\n",
    "TopTopic"
   ]
  },
  {
   "cell_type": "code",
   "execution_count": 66,
   "metadata": {},
   "outputs": [
    {
     "data": {
      "image/png": "[encoded data removed]",
      "text/plain": [
       "<Figure size 500x500 with 1 Axes>"
      ]
     },
     "metadata": {},
     "output_type": "display_data"
    }
   ],
   "source": [
    "x = [topic[0] for topic in TopTopic.index]\n",
    "\n",
    "y = TopTopic.values\n",
    "\n",
    "# Set the figure size to be twice the default size\n",
    "plt.figure(figsize=(5, 5))\n",
    "\n",
    "# setting the type of graph :\n",
    "sns.set_style(\"whitegrid\")\n",
    "\n",
    "# add the axes :\n",
    "sns.barplot(x=x, y=y,data=Mydf )\n",
    "\n",
    "# create The Title and name of axes :\n",
    "plt.title(\"Trending Topic \")\n",
    "plt.xlabel(\"Topic Name\")\n",
    "plt.ylabel(\"Count of topic \")\n",
    "\n",
    "# Rotate x-axis labels by 45 degrees :\n",
    "plt.xticks(rotation=45)\n",
    "\n",
    "plt.show()"
   ]
  },
  {
   "attachments": {},
   "cell_type": "markdown",
   "metadata": {},
   "source": [
    "### Popularity of langauge by time"
   ]
  },
  {
   "cell_type": "code",
   "execution_count": 20,
   "metadata": {},
   "outputs": [
    {
     "ename": "NameError",
     "evalue": "name 'TopTopic' is not defined",
     "output_type": "error",
     "traceback": [
      "\u001b[1;31m---------------------------------------------------------------------------\u001b[0m",
      "\u001b[1;31mNameError\u001b[0m                                 Traceback (most recent call last)",
      "Cell \u001b[1;32mIn[20], line 1\u001b[0m\n\u001b[1;32m----> 1\u001b[0m TopTopic\u001b[39m.\u001b[39mplot(kind\u001b[39m=\u001b[39m\u001b[39m'\u001b[39m\u001b[39mbar\u001b[39m\u001b[39m'\u001b[39m, x\u001b[39m=\u001b[39m\u001b[39m'\u001b[39m\u001b[39mx-axis\u001b[39m\u001b[39m'\u001b[39m, y\u001b[39m=\u001b[39m\u001b[39m'\u001b[39m\u001b[39my-axis\u001b[39m\u001b[39m'\u001b[39m, color\u001b[39m=\u001b[39m\u001b[39m'\u001b[39m\u001b[39mgreen\u001b[39m\u001b[39m'\u001b[39m)\n\u001b[0;32m      2\u001b[0m TopTopic\u001b[39m.\u001b[39mplot\u001b[39m.\u001b[39mbar()\n\u001b[0;32m      3\u001b[0m plt\u001b[39m.\u001b[39mbar(TopTopic\u001b[39m.\u001b[39mindex, TopTopic\u001b[39m.\u001b[39mvalues)\n",
      "\u001b[1;31mNameError\u001b[0m: name 'TopTopic' is not defined"
     ]
    }
   ],
   "source": [
    "TopTopic.plot(kind='bar', x='x-axis', y='y-axis', color='green')\n",
    "TopTopic.plot.bar()\n",
    "plt.bar(TopTopic.index, TopTopic.values)"
   ]
  },
  {
   "attachments": {},
   "cell_type": "markdown",
   "metadata": {},
   "source": [
    "####  Les Top Repo :"
   ]
  },
  {
   "cell_type": "code",
   "execution_count": 164,
   "metadata": {},
   "outputs": [],
   "source": [
    "Top_Repo = Adf.nlargest(10,'stargazers_count')[['full_name','stargazers_count']]"
   ]
  },
  {
   "cell_type": "code",
   "execution_count": 165,
   "metadata": {},
   "outputs": [
    {
     "data": {
      "text/html": [
       "<div>\n",
       "<style scoped>\n",
       "    .dataframe tbody tr th:only-of-type {\n",
       "        vertical-align: middle;\n",
       "    }\n",
       "\n",
       "    .dataframe tbody tr th {\n",
       "        vertical-align: top;\n",
       "    }\n",
       "\n",
       "    .dataframe thead th {\n",
       "        text-align: right;\n",
       "    }\n",
       "</style>\n",
       "<table border=\"1\" class=\"dataframe\">\n",
       "  <thead>\n",
       "    <tr style=\"text-align: right;\">\n",
       "      <th></th>\n",
       "      <th>full_name</th>\n",
       "      <th>stargazers_count</th>\n",
       "    </tr>\n",
       "  </thead>\n",
       "  <tbody>\n",
       "    <tr>\n",
       "      <th>19523</th>\n",
       "      <td>Significant-Gravitas/Auto-GPT</td>\n",
       "      <td>140324</td>\n",
       "    </tr>\n",
       "    <tr>\n",
       "      <th>22508</th>\n",
       "      <td>twitter/the-algorithm</td>\n",
       "      <td>58213</td>\n",
       "    </tr>\n",
       "    <tr>\n",
       "      <th>7826</th>\n",
       "      <td>base-org/node</td>\n",
       "      <td>49903</td>\n",
       "    </tr>\n",
       "    <tr>\n",
       "      <th>22509</th>\n",
       "      <td>nomic-ai/gpt4all</td>\n",
       "      <td>46936</td>\n",
       "    </tr>\n",
       "    <tr>\n",
       "      <th>23041</th>\n",
       "      <td>xtekky/gpt4free</td>\n",
       "      <td>40653</td>\n",
       "    </tr>\n",
       "    <tr>\n",
       "      <th>20574</th>\n",
       "      <td>binary-husky/gpt_academic</td>\n",
       "      <td>36170</td>\n",
       "    </tr>\n",
       "    <tr>\n",
       "      <th>21495</th>\n",
       "      <td>facebookresearch/segment-anything</td>\n",
       "      <td>34871</td>\n",
       "    </tr>\n",
       "    <tr>\n",
       "      <th>15611</th>\n",
       "      <td>microsoft/TaskMatrix</td>\n",
       "      <td>33353</td>\n",
       "    </tr>\n",
       "    <tr>\n",
       "      <th>17958</th>\n",
       "      <td>Yidadaa/ChatGPT-Next-Web</td>\n",
       "      <td>32818</td>\n",
       "    </tr>\n",
       "    <tr>\n",
       "      <th>17959</th>\n",
       "      <td>ggerganov/llama.cpp</td>\n",
       "      <td>31782</td>\n",
       "    </tr>\n",
       "  </tbody>\n",
       "</table>\n",
       "</div>"
      ],
      "text/plain": [
       "                               full_name  stargazers_count\n",
       "19523      Significant-Gravitas/Auto-GPT            140324\n",
       "22508              twitter/the-algorithm             58213\n",
       "7826                       base-org/node             49903\n",
       "22509                   nomic-ai/gpt4all             46936\n",
       "23041                    xtekky/gpt4free             40653\n",
       "20574          binary-husky/gpt_academic             36170\n",
       "21495  facebookresearch/segment-anything             34871\n",
       "15611               microsoft/TaskMatrix             33353\n",
       "17958           Yidadaa/ChatGPT-Next-Web             32818\n",
       "17959                ggerganov/llama.cpp             31782"
      ]
     },
     "execution_count": 165,
     "metadata": {},
     "output_type": "execute_result"
    }
   ],
   "source": [
    "Top_Repo"
   ]
  },
  {
   "attachments": {},
   "cell_type": "markdown",
   "metadata": {},
   "source": [
    "# Contributeurs"
   ]
  },
  {
   "attachments": {},
   "cell_type": "markdown",
   "metadata": {},
   "source": [
    "#### Top 10 contributeurs on all the my df per custome :"
   ]
  },
  {
   "cell_type": "code",
   "execution_count": null,
   "metadata": {},
   "outputs": [],
   "source": []
  },
  {
   "attachments": {},
   "cell_type": "markdown",
   "metadata": {},
   "source": [
    "####  fwast l best repo njbdo topics li m3awdin bzaaaaaf ."
   ]
  },
  {
   "cell_type": "code",
   "execution_count": null,
   "metadata": {},
   "outputs": [],
   "source": []
  }
 ],
 "metadata": {
  "kernelspec": {
   "display_name": "base",
   "language": "python",
   "name": "python3"
  },
  "language_info": {
   "codemirror_mode": {
    "name": "ipython",
    "version": 3
   },
   "file_extension": ".py",
   "mimetype": "text/x-python",
   "name": "python",
   "nbconvert_exporter": "python",
   "pygments_lexer": "ipython3",
   "version": "3.10.11"
  },
  "orig_nbformat": 4
 },
 "nbformat": 4,
 "nbformat_minor": 2
}
